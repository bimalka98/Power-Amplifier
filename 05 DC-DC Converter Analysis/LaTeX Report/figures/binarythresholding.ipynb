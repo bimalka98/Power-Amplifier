{
 "cells": [
  {
   "cell_type": "code",
   "execution_count": 6,
   "metadata": {},
   "outputs": [],
   "source": [
    "import cv2 as cv\n"
   ]
  },
  {
   "cell_type": "code",
   "execution_count": 14,
   "metadata": {},
   "outputs": [],
   "source": [
    "ksize = 7\n",
    "for image in images:\n",
    "    img = cv.imread('fig.jpg', cv.IMREAD_GRAYSCALE)    \n",
    "    ret, img_adapt_thresh = cv.threshold(img,130,255,cv.THRESH_BINARY)\n",
    "    kernel = cv.getStructuringElement(cv.MORPH_RECT,(ksize,ksize))\n",
    "    eroded_img = cv.erode(img_adapt_thresh, kernel)\n",
    "    cv.imwrite('mod'+image,eroded_img)"
   ]
  },
  {
   "cell_type": "code",
   "execution_count": null,
   "metadata": {},
   "outputs": [],
   "source": []
  }
 ],
 "metadata": {
  "kernelspec": {
   "display_name": "Python 3",
   "language": "python",
   "name": "python3"
  },
  "language_info": {
   "codemirror_mode": {
    "name": "ipython",
    "version": 3
   },
   "file_extension": ".py",
   "mimetype": "text/x-python",
   "name": "python",
   "nbconvert_exporter": "python",
   "pygments_lexer": "ipython3",
   "version": "3.9.0"
  }
 },
 "nbformat": 4,
 "nbformat_minor": 4
}
